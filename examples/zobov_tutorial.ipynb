{
 "cells": [
  {
   "cell_type": "code",
   "execution_count": 1,
   "metadata": {},
   "outputs": [],
   "source": [
    "import os\n",
    "import pathlib\n",
    "import tempfile\n",
    "\n",
    "from voidfindertk import io,zobov"
   ]
  },
  {
   "cell_type": "code",
   "execution_count": 6,
   "metadata": {},
   "outputs": [],
   "source": [
    "#Path to the dataset file\n",
    "path_dataset = '<path_to_file>'\n",
    "\n",
    "#Generate Directory to place the runs\n",
    "temp_dir = tempfile.mkdtemp(prefix='run',dir=str('<path_to_place_dir>'))"
   ]
  },
  {
   "cell_type": "markdown",
   "metadata": {},
   "source": [
    "# Create data DataBox:\n",
    "The DataBox object holds the data and their properties. To create this object use io module:\n",
    "\n",
    "- io.read_table(path_or_buffer, **kwargs) : Reads a csv data input with mandatory x,y,z ,vx,vy,vz, m columns:\n",
    "    - x,y,z : position of the tracers\n",
    "    - vx,vy,vz : velocities of the tracers\n",
    "    - m : mass of the tracers\n",
    "    For kwargs arguments take reference of pandas.read_csv. Default values are:\n",
    "    - usecols = [0,1,2,3,4,5,6] first 7 columns in the file\n",
    "    - names = [x,y,z,vx,vy,vz,m] names asociated to those columns.\n",
    "\n",
    "- io.xyz_read_table(path_or_buffer, **kwargs): Same as the aforementioned function, but uses only x,y,z positions (in case the datafile only contains only those tree set of columns).\n",
    "\n",
    "From this object we can obtain a box kind object with the properties of the dataset. A useful propertie is:\n",
    "- box = DataBox.box\n",
    "- box.size() : returns the max lenght value of the cubic box"
   ]
  },
  {
   "cell_type": "code",
   "execution_count": 7,
   "metadata": {},
   "outputs": [],
   "source": [
    "# Get DataBox object:\n",
    "databox = io.read_table(path_or_buffer=path_dataset)\n",
    "\n",
    "# Get the properties box\n",
    "box = databox.box\n",
    "size = box.size()"
   ]
  },
  {
   "cell_type": "markdown",
   "metadata": {},
   "source": [
    "## Running ZOBOV\n",
    "\n",
    "To run ZOBOV first create the model, the model depends on values needed to run the finder. The input values are divided into two groups:\n",
    "1. ZOBOV input params (can be found in the original docs of ZOBOV):\n",
    "\n",
    "    - *buffer_size*: he buffer size sets the size in units such that the box size of the data cube is 1, of the buffer around each sub-box when calculating the Voronoi diagram. (Default 0.08)\n",
    "\n",
    "    - *box_size*: Range of positions of particles in each dimension (default is 500).\n",
    "\n",
    "    - *number_of_divisions*: the no. of partitions in each dimension; must be at least 2 (giving 8 sub-boxes)\n",
    "    (default 2)\n",
    "\n",
    "    - *density_threshold*: The density threshold is an optional parameter, which can limit the\n",
    "    growth of voids into high-density regions. (default is 0).\n",
    "\n",
    "2. Extra parameters related to work dir paths, most importants are\n",
    "    - workdir: Directory specified by the user where all the finder files are going to be placed.\n",
    "    - workdir_clean: Whether or not delete the working directory\n"
   ]
  },
  {
   "cell_type": "code",
   "execution_count": 8,
   "metadata": {},
   "outputs": [],
   "source": [
    "#Generate the model\n",
    "zobov_0 = zobov.ZobovVF(\n",
    "    workdir = str(str(pathlib.Path(temp_dir))),\n",
    "    box_size = size,\n",
    "    )"
   ]
  },
  {
   "cell_type": "markdown",
   "metadata": {},
   "source": [
    "The search of voids over the dataset is performed calling the method find of the model, and providing the databox object. As a return from this proces a Void object will be obtained. The properties of this object are the following:\n",
    "\n",
    "<div style=\"color:red\">method<div style=\"color:white\">: Method used to get this output, in this case ZobovVF</div></div>\n",
    "<div style=\"color:cyan\">tracers<div style=\"color:white\">: The input box of tracers</div></div>\n",
    "<div style=\"color:yellow\">tracers_in_voids_<div style=\"color:white\">: tuple of array of indexes of the tracers within each void</div></div>\n",
    "<div style=\"color:green\">extra_\n",
    "    <div style=\"color:white\">\"zobov_path\": location of original ZOBOV binaries</div>\n",
    "    <div style=\"color:white\">\"zobov_voids\": collection of objects VoidProperties with the properties of each void (these properties are the ones obtained in the final output of ZOBOV)</div>\n",
    "    <div style=\"color:white\">\"files_dir\": directory with the location of the files of this run</div>\n",
    "</div>\n",
    "<div style=\"color:violet\">number_of_voids_<div style=\"color:white\">: Integer showing the number of voids found</div></div>"
   ]
  },
  {
   "cell_type": "code",
   "execution_count": 9,
   "metadata": {},
   "outputs": [
    {
     "name": "stdout",
     "output_type": "stream",
     "text": [
      "Datos guardados en /home/jorgefederico/updates/test_vftk/test3/voidFinderProject/rungihajd7t/tmp8sp_dbse2024-07-22T22:26:09.259373+00:00/part_vs_zone_ascii.txt\n",
      "Datos guardados correctamente en /home/jorgefederico/updates/test_vftk/test3/voidFinderProject/rungihajd7t/tmp8sp_dbse2024-07-22T22:26:09.259373+00:00/zones_vs_voids_ascii.txt\n"
     ]
    }
   ],
   "source": [
    "# Perform Void Finder method on dataset\n",
    "voids = zobov_0.find(databox)"
   ]
  },
  {
   "cell_type": "code",
   "execution_count": 17,
   "metadata": {},
   "outputs": [
    {
     "data": {
      "text/plain": [
       "array([569431,   1190,   1253, ..., 419587, 449486, 691259])"
      ]
     },
     "execution_count": 17,
     "metadata": {},
     "output_type": "execute_result"
    }
   ],
   "source": [
    "voids.tracers_in_voids_[0]"
   ]
  },
  {
   "cell_type": "code",
   "execution_count": 18,
   "metadata": {},
   "outputs": [
    {
     "data": {
      "text/plain": [
       "'ZobovVF'"
      ]
     },
     "execution_count": 18,
     "metadata": {},
     "output_type": "execute_result"
    }
   ],
   "source": [
    "voids.method"
   ]
  },
  {
   "cell_type": "code",
   "execution_count": 19,
   "metadata": {},
   "outputs": [
    {
     "data": {
      "text/plain": [
       "569431"
      ]
     },
     "execution_count": 19,
     "metadata": {},
     "output_type": "execute_result"
    }
   ],
   "source": [
    "voids.extra_['zobov_voids'][0].core_particle"
   ]
  },
  {
   "cell_type": "code",
   "execution_count": 20,
   "metadata": {},
   "outputs": [
    {
     "data": {
      "text/plain": [
       "<Box size=700070>"
      ]
     },
     "execution_count": 20,
     "metadata": {},
     "output_type": "execute_result"
    }
   ],
   "source": [
    "voids.tracers"
   ]
  },
  {
   "cell_type": "markdown",
   "metadata": {},
   "source": [
    "## Accesing ZOBOV raw output files\n",
    "Interested in the raw files can view them inside a directory within the following directory:\n",
    "\n",
    "directory = voids.extra_['files_dir']\n",
    "\n",
    "- The default suffix of the files (see voztie docummentation) is output_vozinit\n",
    "- The default name of the txt file is: output_txt.dat"
   ]
  },
  {
   "cell_type": "code",
   "execution_count": 21,
   "metadata": {},
   "outputs": [],
   "source": [
    "# Get directory of runs of the model\n",
    "model_directory = str(zobov_0.workdir)\n",
    "\n",
    "# Directory of this specific run\n",
    "directory = voids.extra_['files_dir']\n",
    "directory = pathlib.Path(directory)\n"
   ]
  },
  {
   "cell_type": "markdown",
   "metadata": {},
   "source": [
    "Can also display the txt file as a dataframe:"
   ]
  },
  {
   "cell_type": "code",
   "execution_count": 22,
   "metadata": {},
   "outputs": [
    {
     "data": {
      "text/html": [
       "<div>\n",
       "<style scoped>\n",
       "    .dataframe tbody tr th:only-of-type {\n",
       "        vertical-align: middle;\n",
       "    }\n",
       "\n",
       "    .dataframe tbody tr th {\n",
       "        vertical-align: top;\n",
       "    }\n",
       "\n",
       "    .dataframe thead th {\n",
       "        text-align: right;\n",
       "    }\n",
       "</style>\n",
       "<table border=\"1\" class=\"dataframe\">\n",
       "  <thead>\n",
       "    <tr style=\"text-align: right;\">\n",
       "      <th></th>\n",
       "      <th>Void#</th>\n",
       "      <th>FileVoid#</th>\n",
       "      <th>CoreParticle</th>\n",
       "      <th>CoreDens</th>\n",
       "      <th>ZoneVol</th>\n",
       "      <th>Zone#Part</th>\n",
       "      <th>Void#Zones</th>\n",
       "      <th>VoidVol</th>\n",
       "      <th>Void#Part</th>\n",
       "      <th>VoidDensContrast</th>\n",
       "      <th>VoidProb</th>\n",
       "    </tr>\n",
       "  </thead>\n",
       "  <tbody>\n",
       "    <tr>\n",
       "      <th>0</th>\n",
       "      <td>1</td>\n",
       "      <td>2401</td>\n",
       "      <td>569431</td>\n",
       "      <td>0.026418</td>\n",
       "      <td>1968.61900</td>\n",
       "      <td>1560</td>\n",
       "      <td>3094</td>\n",
       "      <td>700070.00000</td>\n",
       "      <td>700070</td>\n",
       "      <td>675132.652816</td>\n",
       "      <td>0.000000e+00</td>\n",
       "    </tr>\n",
       "    <tr>\n",
       "      <th>1</th>\n",
       "      <td>2</td>\n",
       "      <td>1267</td>\n",
       "      <td>403315</td>\n",
       "      <td>0.031410</td>\n",
       "      <td>820.91060</td>\n",
       "      <td>526</td>\n",
       "      <td>185</td>\n",
       "      <td>91773.79000</td>\n",
       "      <td>75307</td>\n",
       "      <td>5.194971</td>\n",
       "      <td>2.620000e-29</td>\n",
       "    </tr>\n",
       "    <tr>\n",
       "      <th>2</th>\n",
       "      <td>3</td>\n",
       "      <td>2751</td>\n",
       "      <td>634255</td>\n",
       "      <td>0.032036</td>\n",
       "      <td>1822.09900</td>\n",
       "      <td>1038</td>\n",
       "      <td>210</td>\n",
       "      <td>94425.77000</td>\n",
       "      <td>74996</td>\n",
       "      <td>5.086551</td>\n",
       "      <td>1.050000e-27</td>\n",
       "    </tr>\n",
       "    <tr>\n",
       "      <th>3</th>\n",
       "      <td>4</td>\n",
       "      <td>2521</td>\n",
       "      <td>588773</td>\n",
       "      <td>0.042433</td>\n",
       "      <td>1245.12000</td>\n",
       "      <td>999</td>\n",
       "      <td>3</td>\n",
       "      <td>1584.31800</td>\n",
       "      <td>1310</td>\n",
       "      <td>4.943060</td>\n",
       "      <td>1.110000e-25</td>\n",
       "    </tr>\n",
       "    <tr>\n",
       "      <th>4</th>\n",
       "      <td>5</td>\n",
       "      <td>1618</td>\n",
       "      <td>454864</td>\n",
       "      <td>0.042856</td>\n",
       "      <td>1834.24400</td>\n",
       "      <td>1389</td>\n",
       "      <td>7</td>\n",
       "      <td>3722.52200</td>\n",
       "      <td>3414</td>\n",
       "      <td>4.460823</td>\n",
       "      <td>1.170000e-19</td>\n",
       "    </tr>\n",
       "    <tr>\n",
       "      <th>...</th>\n",
       "      <td>...</td>\n",
       "      <td>...</td>\n",
       "      <td>...</td>\n",
       "      <td>...</td>\n",
       "      <td>...</td>\n",
       "      <td>...</td>\n",
       "      <td>...</td>\n",
       "      <td>...</td>\n",
       "      <td>...</td>\n",
       "      <td>...</td>\n",
       "      <td>...</td>\n",
       "    </tr>\n",
       "    <tr>\n",
       "      <th>3089</th>\n",
       "      <td>3090</td>\n",
       "      <td>903</td>\n",
       "      <td>337007</td>\n",
       "      <td>0.088948</td>\n",
       "      <td>440.59630</td>\n",
       "      <td>403</td>\n",
       "      <td>1</td>\n",
       "      <td>440.59630</td>\n",
       "      <td>403</td>\n",
       "      <td>1.000517</td>\n",
       "      <td>9.970000e-01</td>\n",
       "    </tr>\n",
       "    <tr>\n",
       "      <th>3090</th>\n",
       "      <td>3091</td>\n",
       "      <td>1698</td>\n",
       "      <td>466920</td>\n",
       "      <td>0.334466</td>\n",
       "      <td>37.28060</td>\n",
       "      <td>49</td>\n",
       "      <td>1</td>\n",
       "      <td>37.28060</td>\n",
       "      <td>49</td>\n",
       "      <td>1.000486</td>\n",
       "      <td>9.980000e-01</td>\n",
       "    </tr>\n",
       "    <tr>\n",
       "      <th>3091</th>\n",
       "      <td>3092</td>\n",
       "      <td>1875</td>\n",
       "      <td>490392</td>\n",
       "      <td>0.220646</td>\n",
       "      <td>17.78617</td>\n",
       "      <td>13</td>\n",
       "      <td>1</td>\n",
       "      <td>17.78617</td>\n",
       "      <td>13</td>\n",
       "      <td>1.000446</td>\n",
       "      <td>9.980000e-01</td>\n",
       "    </tr>\n",
       "    <tr>\n",
       "      <th>3092</th>\n",
       "      <td>3093</td>\n",
       "      <td>297</td>\n",
       "      <td>212225</td>\n",
       "      <td>0.101339</td>\n",
       "      <td>322.57560</td>\n",
       "      <td>358</td>\n",
       "      <td>1</td>\n",
       "      <td>322.57560</td>\n",
       "      <td>358</td>\n",
       "      <td>1.000062</td>\n",
       "      <td>1.000000e+00</td>\n",
       "    </tr>\n",
       "    <tr>\n",
       "      <th>3093</th>\n",
       "      <td>3094</td>\n",
       "      <td>2636</td>\n",
       "      <td>611838</td>\n",
       "      <td>0.259688</td>\n",
       "      <td>28.52439</td>\n",
       "      <td>34</td>\n",
       "      <td>1</td>\n",
       "      <td>28.52439</td>\n",
       "      <td>34</td>\n",
       "      <td>1.000030</td>\n",
       "      <td>1.000000e+00</td>\n",
       "    </tr>\n",
       "  </tbody>\n",
       "</table>\n",
       "<p>3094 rows × 11 columns</p>\n",
       "</div>"
      ],
      "text/plain": [
       "      Void#  FileVoid#  CoreParticle  CoreDens     ZoneVol  Zone#Part  \\\n",
       "0         1       2401        569431  0.026418  1968.61900       1560   \n",
       "1         2       1267        403315  0.031410   820.91060        526   \n",
       "2         3       2751        634255  0.032036  1822.09900       1038   \n",
       "3         4       2521        588773  0.042433  1245.12000        999   \n",
       "4         5       1618        454864  0.042856  1834.24400       1389   \n",
       "...     ...        ...           ...       ...         ...        ...   \n",
       "3089   3090        903        337007  0.088948   440.59630        403   \n",
       "3090   3091       1698        466920  0.334466    37.28060         49   \n",
       "3091   3092       1875        490392  0.220646    17.78617         13   \n",
       "3092   3093        297        212225  0.101339   322.57560        358   \n",
       "3093   3094       2636        611838  0.259688    28.52439         34   \n",
       "\n",
       "      Void#Zones       VoidVol  Void#Part  VoidDensContrast      VoidProb  \n",
       "0           3094  700070.00000     700070     675132.652816  0.000000e+00  \n",
       "1            185   91773.79000      75307          5.194971  2.620000e-29  \n",
       "2            210   94425.77000      74996          5.086551  1.050000e-27  \n",
       "3              3    1584.31800       1310          4.943060  1.110000e-25  \n",
       "4              7    3722.52200       3414          4.460823  1.170000e-19  \n",
       "...          ...           ...        ...               ...           ...  \n",
       "3089           1     440.59630        403          1.000517  9.970000e-01  \n",
       "3090           1      37.28060         49          1.000486  9.980000e-01  \n",
       "3091           1      17.78617         13          1.000446  9.980000e-01  \n",
       "3092           1     322.57560        358          1.000062  1.000000e+00  \n",
       "3093           1      28.52439         34          1.000030  1.000000e+00  \n",
       "\n",
       "[3094 rows x 11 columns]"
      ]
     },
     "execution_count": 22,
     "metadata": {},
     "output_type": "execute_result"
    }
   ],
   "source": [
    "# Get the output txt file as a pandas dataframe\n",
    "import pandas as pd\n",
    "df = pd.read_csv(directory / \"output_txt.dat\", sep='\\s+',header=1)\n",
    "df"
   ]
  }
 ],
 "metadata": {
  "kernelspec": {
   "display_name": "testenv",
   "language": "python",
   "name": "python3"
  },
  "language_info": {
   "codemirror_mode": {
    "name": "ipython",
    "version": 3
   },
   "file_extension": ".py",
   "mimetype": "text/x-python",
   "name": "python",
   "nbconvert_exporter": "python",
   "pygments_lexer": "ipython3",
   "version": "3.11.4"
  }
 },
 "nbformat": 4,
 "nbformat_minor": 2
}
