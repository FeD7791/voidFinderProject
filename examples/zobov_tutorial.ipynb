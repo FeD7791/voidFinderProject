{
 "cells": [
  {
   "cell_type": "code",
   "execution_count": 1,
   "metadata": {},
   "outputs": [],
   "source": [
    "from voidfindertk import io,zobov\n",
    "import os\n",
    "import pathlib\n",
    "import tempfile"
   ]
  },
  {
   "cell_type": "markdown",
   "metadata": {},
   "source": [
    "# ZOBOV Void Finder\n",
    "\n",
    "To run ZOBOV first create the model, the model depends on values needed to run the finder."
   ]
  },
  {
   "cell_type": "markdown",
   "metadata": {},
   "source": [
    "Basically two str paths are needed:\n",
    "\n",
    "1. path to the data file\n",
    "2. path to a directory to perform the run, zobov files are going to be created there"
   ]
  },
  {
   "cell_type": "code",
   "execution_count": 10,
   "metadata": {},
   "outputs": [
    {
     "name": "stdout",
     "output_type": "stream",
     "text": [
      "/home/jorgefederico/updates/test_vftk/voidFinderProject\n",
      "/home/jorgefederico/updates/test_vftk/voidFinderProject/datasets/halos_fede.dat\n"
     ]
    }
   ],
   "source": [
    "# Path to this file\n",
    "# This path is used to ensure that this example works anywhere\n",
    "this_file_path = pathlib.Path(os.path.abspath(''))\n",
    "\n",
    "#Path to the dataset file\n",
    "this_file_parent = this_file_path.parents[0]\n",
    "path_dataset = this_file_parent/'datasets'/'halos_fede.dat'\n",
    "print(this_file_parent)\n",
    "print(path_dataset)\n",
    "#Generate Directory to place the runs\n",
    "temp_dir = tempfile.mkdtemp(prefix='run',dir=str(this_file_parent))"
   ]
  },
  {
   "cell_type": "markdown",
   "metadata": {},
   "source": [
    "Elaborate the model with the desired parameters. And then perform ZOBOV with those parameters over the desired tracer data."
   ]
  },
  {
   "cell_type": "code",
   "execution_count": 11,
   "metadata": {},
   "outputs": [],
   "source": [
    "#Generate the model\n",
    "zobov_0 = zobov.ZobovVF(\n",
    "    # Perform zobov and place its files in a directory inside temp_dir\n",
    "    workdir=str(str(pathlib.Path(temp_dir)))\n",
    "    )\n",
    "\n",
    "# Get dataset box object:\n",
    "tracers = io.read_table(path_or_buffer=path_dataset)\n"
   ]
  },
  {
   "cell_type": "code",
   "execution_count": 12,
   "metadata": {},
   "outputs": [
    {
     "name": "stdout",
     "output_type": "stream",
     "text": [
      "Datos guardados en /home/jorgefederico/updates/test_vftk/voidFinderProject/runzeupr01n/tmpi15_gua62024-07-22T04:09:38.446825+00:00/part_vs_zone_ascii.txt\n",
      "Datos guardados correctamente en /home/jorgefederico/updates/test_vftk/voidFinderProject/runzeupr01n/tmpi15_gua62024-07-22T04:09:38.446825+00:00/zones_vs_voids_ascii.txt\n"
     ]
    }
   ],
   "source": [
    "# Perform Void Finder method on dataset\n",
    "voids = zobov_0.find(tracers)"
   ]
  },
  {
   "cell_type": "markdown",
   "metadata": {},
   "source": [
    "The object voids contains:\n",
    "\n",
    "<div style=\"color:red\">method</div> : Method used to get this output, in this case ZobovVF\n",
    "<div style=\"color:blue\">tracers</div> : Box object with the tracers\n",
    "<div style=\"color:yellow\">voids</div> : tuple of array of indexes of the tracers within each void\n",
    "<div style=\"color:green\">extra</div> : Dictionary with void statistics and other stuff\n",
    "\n"
   ]
  },
  {
   "cell_type": "code",
   "execution_count": 14,
   "metadata": {},
   "outputs": [
    {
     "data": {
      "text/plain": [
       "array([569431,   1190,   1253, ..., 419587, 449486, 691259])"
      ]
     },
     "execution_count": 14,
     "metadata": {},
     "output_type": "execute_result"
    }
   ],
   "source": [
    "voids.voids_[0]"
   ]
  },
  {
   "cell_type": "code",
   "execution_count": 15,
   "metadata": {},
   "outputs": [
    {
     "data": {
      "text/plain": [
       "'ZobovVF'"
      ]
     },
     "execution_count": 15,
     "metadata": {},
     "output_type": "execute_result"
    }
   ],
   "source": [
    "voids.method"
   ]
  },
  {
   "cell_type": "code",
   "execution_count": 17,
   "metadata": {},
   "outputs": [
    {
     "data": {
      "text/plain": [
       "569431"
      ]
     },
     "execution_count": 17,
     "metadata": {},
     "output_type": "execute_result"
    }
   ],
   "source": [
    "voids.extra_['zobov_voids'][0].core_particle"
   ]
  },
  {
   "cell_type": "code",
   "execution_count": 18,
   "metadata": {},
   "outputs": [
    {
     "data": {
      "text/plain": [
       "<Box size=700070>"
      ]
     },
     "execution_count": 18,
     "metadata": {},
     "output_type": "execute_result"
    }
   ],
   "source": [
    "voids.tracers"
   ]
  },
  {
   "cell_type": "markdown",
   "metadata": {},
   "source": [
    "## Accesing ZOBOV raw output files\n",
    "Interested in the raw files can view them inside a directory within the following directory:"
   ]
  },
  {
   "cell_type": "code",
   "execution_count": 21,
   "metadata": {},
   "outputs": [
    {
     "data": {
      "text/plain": [
       "'/home/jorgefederico/updates/test_vftk/voidFinderProject/runzeupr01n'"
      ]
     },
     "execution_count": 21,
     "metadata": {},
     "output_type": "execute_result"
    }
   ],
   "source": [
    "files_dir = str(zobov_0.workdir)\n",
    "files_dir"
   ]
  }
 ],
 "metadata": {
  "kernelspec": {
   "display_name": "testenv",
   "language": "python",
   "name": "python3"
  },
  "language_info": {
   "codemirror_mode": {
    "name": "ipython",
    "version": 3
   },
   "file_extension": ".py",
   "mimetype": "text/x-python",
   "name": "python",
   "nbconvert_exporter": "python",
   "pygments_lexer": "ipython3",
   "version": "3.11.4"
  }
 },
 "nbformat": 4,
 "nbformat_minor": 2
}
