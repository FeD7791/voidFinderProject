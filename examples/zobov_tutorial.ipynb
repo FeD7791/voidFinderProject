{
 "cells": [
  {
   "cell_type": "code",
   "execution_count": 2,
   "metadata": {},
   "outputs": [
    {
     "ename": "ImportError",
     "evalue": "cannot import name 'io' from 'voidfindertk' (unknown location)",
     "output_type": "error",
     "traceback": [
      "\u001b[0;31m---------------------------------------------------------------------------\u001b[0m",
      "\u001b[0;31mImportError\u001b[0m                               Traceback (most recent call last)",
      "Cell \u001b[0;32mIn[2], line 5\u001b[0m\n\u001b[1;32m      2\u001b[0m \u001b[38;5;28;01mimport\u001b[39;00m \u001b[38;5;21;01mpathlib\u001b[39;00m\n\u001b[1;32m      3\u001b[0m \u001b[38;5;28;01mimport\u001b[39;00m \u001b[38;5;21;01mtempfile\u001b[39;00m\n\u001b[0;32m----> 5\u001b[0m \u001b[38;5;28;01mfrom\u001b[39;00m \u001b[38;5;21;01mvoidfindertk\u001b[39;00m \u001b[38;5;28;01mimport\u001b[39;00m io,zobov\n",
      "\u001b[0;31mImportError\u001b[0m: cannot import name 'io' from 'voidfindertk' (unknown location)"
     ]
    }
   ],
   "source": [
    "import os\n",
    "import pathlib\n",
    "import tempfile\n",
    "\n",
    "from voidfindertk import io,zobov"
   ]
  },
  {
   "cell_type": "code",
   "execution_count": null,
   "metadata": {},
   "outputs": [],
   "source": [
    "# This path is used to ensure that this example works anywhere\n",
    "this_file_path = pathlib.Path(os.path.abspath(''))\n",
    "\n",
    "#Path to the dataset file\n",
    "this_file_parent = this_file_path.parents[0]\n",
    "path_dataset = this_file_parent/'datasets'/'halos_fede.dat'\n",
    "\n",
    "#Generate Directory to place the runs\n",
    "temp_dir = tempfile.mkdtemp(prefix='run',dir=str(this_file_parent))"
   ]
  },
  {
   "cell_type": "markdown",
   "metadata": {},
   "source": [
    "# Create data DataBox:\n",
    "The DataBox object holds the data and their properties. To create this object use io module:\n",
    "\n",
    "- io.read_table(path_or_buffer, **kwargs) : Reads a csv data input with mandatory x,y,z ,vx,vy,vz, m columns:\n",
    "    - x,y,z : position of the tracers\n",
    "    - vx,vy,vz : velocities of the tracers\n",
    "    - m : mass of the tracers\n",
    "    For kwargs arguments take reference of pandas.read_csv. Default values are:\n",
    "    - usecols = [0,1,2,3,4,5,6] first 7 columns in the file\n",
    "    - names = [x,y,z,vx,vy,vz,m] names asociated to those columns.\n",
    "\n",
    "- io.xyz_read_table(path_or_buffer, **kwargs): Same as the aforementioned function, but uses only x,y,z positions (in case the datafile only contains only those tree set of columns).\n",
    "\n",
    "From this object we can obtain a box kind object with the properties of the dataset. A useful propertie is:\n",
    "- box = DataBox.box\n",
    "- box.size() : returns the max lenght value of the cubic box"
   ]
  },
  {
   "cell_type": "code",
   "execution_count": null,
   "metadata": {},
   "outputs": [],
   "source": [
    "# Get DataBox object:\n",
    "databox = io.read_table(path_or_buffer=path_dataset)\n",
    "\n",
    "# Get the properties box\n",
    "box = databox.box\n",
    "size = box.size()"
   ]
  },
  {
   "cell_type": "markdown",
   "metadata": {},
   "source": [
    "## Running ZOBOV\n",
    "\n",
    "To run ZOBOV first create the model, the model depends on values needed to run the finder. The input values are divided into two groups:\n",
    "1. ZOBOV input params (can be found in the original docs of ZOBOV):\n",
    "\n",
    "    - *buffer_size*: he buffer size sets the size in units such that the box size of the data cube is 1, of the buffer around each sub-box when calculating the Voronoi diagram. (Default 0.08)\n",
    "\n",
    "    - *box_size*: Range of positions of particles in each dimension (default is 500).\n",
    "\n",
    "    - *number_of_divisions*: the no. of partitions in each dimension; must be at least 2 (giving 8 sub-boxes)\n",
    "    (default 2)\n",
    "\n",
    "    - *density_threshold*: The density threshold is an optional parameter, which can limit the\n",
    "    growth of voids into high-density regions. (default is 0).\n",
    "\n",
    "2. Extra parameters related to work dir paths, most importants are\n",
    "    - workdir: Directory specified by the user where all the finder files are going to be placed.\n",
    "    - workdir_clean: Whether or not delete the working directory\n"
   ]
  },
  {
   "cell_type": "code",
   "execution_count": null,
   "metadata": {},
   "outputs": [],
   "source": [
    "#Generate the model\n",
    "zobov_0 = zobov.ZobovVF(\n",
    "    workdir = str(str(pathlib.Path(temp_dir))),\n",
    "    box_size = size,\n",
    "    )"
   ]
  },
  {
   "cell_type": "markdown",
   "metadata": {},
   "source": [
    "The search of voids over the dataset is performed calling the method find of the model, and providing the databox object. As a return from this proces a Void object will be obtained. The properties of this object are the following:\n",
    "\n",
    "<div style=\"color:red\">method<div style=\"color:white\">: Method used to get this output, in this case ZobovVF</div></div>\n",
    "<div style=\"color:cyan\">tracers<div style=\"color:white\">: The input box of tracers</div></div>\n",
    "<div style=\"color:yellow\">tracers_in_voids_<div style=\"color:white\">: tuple of array of indexes of the tracers within each void</div></div>\n",
    "<div style=\"color:green\">extra_\n",
    "    <div style=\"color:white\">\"zobov_path\": location of original ZOBOV binaries</div>\n",
    "    <div style=\"color:white\">\"zobov_voids\": collection of objects VoidProperties with the properties of each void (these properties are the ones obtained in the final output of ZOBOV)</div>\n",
    "    <div style=\"color:white\">\"files_dir\": directory with the location of the files of this run</div>\n",
    "</div>\n",
    "<div style=\"color:violet\">number_of_voids_<div style=\"color:white\">: Integer showing the number of voids found</div></div>"
   ]
  },
  {
   "cell_type": "code",
   "execution_count": 12,
   "metadata": {},
   "outputs": [
    {
     "name": "stdout",
     "output_type": "stream",
     "text": [
      "Datos guardados en /home/jorgefederico/updates/test_vftk/voidFinderProject/runzeupr01n/tmpi15_gua62024-07-22T04:09:38.446825+00:00/part_vs_zone_ascii.txt\n",
      "Datos guardados correctamente en /home/jorgefederico/updates/test_vftk/voidFinderProject/runzeupr01n/tmpi15_gua62024-07-22T04:09:38.446825+00:00/zones_vs_voids_ascii.txt\n"
     ]
    }
   ],
   "source": [
    "# Perform Void Finder method on dataset\n",
    "voids = zobov_0.find(databox)"
   ]
  },
  {
   "cell_type": "code",
   "execution_count": 14,
   "metadata": {},
   "outputs": [
    {
     "data": {
      "text/plain": [
       "array([569431,   1190,   1253, ..., 419587, 449486, 691259])"
      ]
     },
     "execution_count": 14,
     "metadata": {},
     "output_type": "execute_result"
    }
   ],
   "source": [
    "voids.voids_[0]"
   ]
  },
  {
   "cell_type": "code",
   "execution_count": 15,
   "metadata": {},
   "outputs": [
    {
     "data": {
      "text/plain": [
       "'ZobovVF'"
      ]
     },
     "execution_count": 15,
     "metadata": {},
     "output_type": "execute_result"
    }
   ],
   "source": [
    "voids.method"
   ]
  },
  {
   "cell_type": "code",
   "execution_count": 17,
   "metadata": {},
   "outputs": [
    {
     "data": {
      "text/plain": [
       "569431"
      ]
     },
     "execution_count": 17,
     "metadata": {},
     "output_type": "execute_result"
    }
   ],
   "source": [
    "voids.extra_['zobov_voids'][0].core_particle"
   ]
  },
  {
   "cell_type": "code",
   "execution_count": 18,
   "metadata": {},
   "outputs": [
    {
     "data": {
      "text/plain": [
       "<Box size=700070>"
      ]
     },
     "execution_count": 18,
     "metadata": {},
     "output_type": "execute_result"
    }
   ],
   "source": [
    "voids.tracers"
   ]
  },
  {
   "cell_type": "markdown",
   "metadata": {},
   "source": [
    "## Accesing ZOBOV raw output files\n",
    "Interested in the raw files can view them inside a directory within the following directory:\n",
    "\n",
    "directory = voids.extra_['files_dir']\n",
    "\n",
    "- The default suffix of the files (see voztie docummentation) is output_vozinit\n",
    "- The default name of the txt file is: output_txt.dat"
   ]
  },
  {
   "cell_type": "code",
   "execution_count": 21,
   "metadata": {},
   "outputs": [
    {
     "data": {
      "text/plain": [
       "'/home/jorgefederico/updates/test_vftk/voidFinderProject/runzeupr01n'"
      ]
     },
     "execution_count": 21,
     "metadata": {},
     "output_type": "execute_result"
    }
   ],
   "source": [
    "# Get directory of runs of the model\n",
    "model_directory = str(zobov_0.workdir)\n",
    "\n",
    "# Directory of this specific run\n",
    "directory = voids.extra_['files_dir']\n",
    "directory = pathlib.Path(directory)\n"
   ]
  },
  {
   "cell_type": "markdown",
   "metadata": {},
   "source": [
    "Can also display the txt file as a dataframe:"
   ]
  },
  {
   "cell_type": "code",
   "execution_count": null,
   "metadata": {},
   "outputs": [],
   "source": [
    "# Get the output txt file as a pandas dataframe\n",
    "import pandas as pd\n",
    "df = pd.read_csv(directory / \"output_txt.dat\", sep='\\s+',header=1)"
   ]
  }
 ],
 "metadata": {
  "kernelspec": {
   "display_name": "testenv",
   "language": "python",
   "name": "python3"
  },
  "language_info": {
   "codemirror_mode": {
    "name": "ipython",
    "version": 3
   },
   "file_extension": ".py",
   "mimetype": "text/x-python",
   "name": "python",
   "nbconvert_exporter": "python",
   "pygments_lexer": "ipython3",
   "version": "3.11.4"
  }
 },
 "nbformat": 4,
 "nbformat_minor": 2
}
