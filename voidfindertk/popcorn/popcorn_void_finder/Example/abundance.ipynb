{
 "cells": [
  {
   "cell_type": "code",
   "execution_count": null,
   "id": "b6bba05b-ca3e-4df0-af41-618bb0c5af25",
   "metadata": {
    "tags": []
   },
   "outputs": [],
   "source": [
    "import numpy as np\n",
    "import matplotlib.pyplot as plt\n",
    "\n",
    "from read_voids import read_sph, read_pop"
   ]
  },
  {
   "cell_type": "code",
   "execution_count": null,
   "id": "adb65712-e1e3-4546-b1ce-c36637c0b79e",
   "metadata": {
    "tags": []
   },
   "outputs": [],
   "source": [
    "# Reading the spherical void catalogue:\n",
    "sphvoids = read_sph(\"sphvoids.dat\")\n",
    "\n",
    "# Reading the popcorn void catalogue:\n",
    "popvoids = read_pop(\"popvoids.dat\")"
   ]
  },
  {
   "cell_type": "code",
   "execution_count": null,
   "id": "4f3df3cc-c3b3-4ecf-bb51-470eccd23151",
   "metadata": {
    "tags": []
   },
   "outputs": [],
   "source": [
    "# Calculating radii histograms:\n",
    "hs, edges_s = np.histogram(sphvoids['r'])\n",
    "hp, edges_p = np.histogram(popvoids['reff'])\n",
    "\n",
    "# Midpoints of bins:\n",
    "mids_s = 0.5 * (edges_s[1:] + edges_s[:-1])\n",
    "mids_p = 0.5 * (edges_p[1:] + edges_p[:-1])"
   ]
  },
  {
   "cell_type": "code",
   "execution_count": null,
   "id": "83f4a364-8fe3-48bb-ab2a-c863ba817946",
   "metadata": {
    "tags": []
   },
   "outputs": [],
   "source": [
    "# Plotting radii distribution:\n",
    "plt.loglog(mids_s, hs, label='spherical', linewidth=2, color='blue')\n",
    "plt.loglog(mids_p, hp, label='popcorn', linewidth=2, color='red')\n",
    "\n",
    "plt.xlabel(r'$R_v$ [Mpc/h]')\n",
    "plt.ylabel('Void counts')\n",
    "plt.legend(loc='upper right')\n",
    "plt.tight_layout()\n",
    "plt.show()"
   ]
  },
  {
   "cell_type": "code",
   "execution_count": null,
   "id": "132402c8-2c2f-4ed1-8e08-8a3dc7a6e9b2",
   "metadata": {},
   "outputs": [],
   "source": []
  }
 ],
 "metadata": {
  "kernelspec": {
   "display_name": "Python 3",
   "language": "python",
   "name": "python3"
  },
  "language_info": {
   "codemirror_mode": {
    "name": "ipython",
    "version": 3
   },
   "file_extension": ".py",
   "mimetype": "text/x-python",
   "name": "python",
   "nbconvert_exporter": "python",
   "pygments_lexer": "ipython3",
   "version": "3.9.19"
  }
 },
 "nbformat": 4,
 "nbformat_minor": 5
}
